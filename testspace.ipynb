{
 "cells": [
  {
   "cell_type": "code",
   "execution_count": 3,
   "metadata": {},
   "outputs": [
    {
     "name": "stderr",
     "output_type": "stream",
     "text": [
      "2024-10-18 11:57:33.409086: I tensorflow/core/platform/cpu_feature_guard.cc:182] This TensorFlow binary is optimized to use available CPU instructions in performance-critical operations.\n",
      "To enable the following instructions: SSE4.1 SSE4.2 AVX AVX2 FMA, in other operations, rebuild TensorFlow with the appropriate compiler flags.\n"
     ]
    }
   ],
   "source": [
    "import argparse\n",
    "import torch\n",
    "from snn import *\n",
    "from keras.utils import plot_model\n",
    "from tensorflow.keras.optimizers import Adam\n",
    "import os\n",
    "import numpy as np"
   ]
  },
  {
   "cell_type": "code",
   "execution_count": 9,
   "metadata": {},
   "outputs": [],
   "source": [
    "class args():\n",
    "    dir = './results'\n",
    "    dataname = 'cifar100'\n",
    "    source_epoch = 0\n",
    "    disc_dim = 64\n",
    "    n_channels = 1\n",
    "    dir_shadow = './'"
   ]
  },
  {
   "cell_type": "code",
   "execution_count": 23,
   "metadata": {},
   "outputs": [
    {
     "name": "stderr",
     "output_type": "stream",
     "text": [
      "/tmp/ipykernel_95031/1406467653.py:4: FutureWarning: You are using `torch.load` with `weights_only=False` (the current default value), which uses the default pickle module implicitly. It is possible to construct malicious pickle data which will execute arbitrary code during unpickling (See https://github.com/pytorch/pytorch/blob/main/SECURITY.md#untrusted-models for more details). In a future release, the default value for `weights_only` will be flipped to `True`. This limits the functions that could be executed during unpickling. Arbitrary objects will no longer be allowed to be loaded via this mode unless they are explicitly allowlisted by the user via `torch.serialization.add_safe_globals`. We recommend you start setting `weights_only=True` for any use case where you don't have full control of the loaded file. Please open an issue on GitHub for any issues related to this experimental feature.\n",
      "  resources = torch.load(path)\n"
     ]
    },
    {
     "data": {
      "text/plain": [
       "tensor([-0.0073, -0.0023,  0.0011,  0.0005, -0.0047, -0.0039, -0.0018, -0.0009,\n",
       "        -0.0020,  0.0034,  0.0109,  0.0016,  0.0039, -0.0048,  0.0018, -0.0116,\n",
       "         0.0100, -0.0045,  0.0037,  0.0069, -0.0103, -0.0106,  0.0010,  0.0073,\n",
       "        -0.0008, -0.0112, -0.0050,  0.0011,  0.0036, -0.0120, -0.0011,  0.0070,\n",
       "         0.0011,  0.0162, -0.0057,  0.0093, -0.0070,  0.0088, -0.0012,  0.0108,\n",
       "        -0.0069, -0.0049,  0.0104,  0.0002, -0.0035,  0.0119, -0.0001, -0.0026,\n",
       "        -0.0056, -0.0083,  0.0014, -0.0057, -0.0011,  0.0058, -0.0052, -0.0068,\n",
       "         0.0053, -0.0035, -0.0077,  0.0034,  0.0115, -0.0050, -0.0002,  0.0052,\n",
       "         0.0006, -0.0018, -0.0047,  0.0044, -0.0018, -0.0059, -0.0047,  0.0018,\n",
       "        -0.0130,  0.0092, -0.0069,  0.0017,  0.0097, -0.0059,  0.0025, -0.0041,\n",
       "        -0.0044, -0.0025, -0.0015, -0.0002,  0.0026,  0.0115, -0.0073,  0.0067,\n",
       "        -0.0080, -0.0002, -0.0018, -0.0003, -0.0033, -0.0016,  0.0031, -0.0049,\n",
       "         0.0137, -0.0072,  0.0116,  0.0083])"
      ]
     },
     "execution_count": 23,
     "metadata": {},
     "output_type": "execute_result"
    }
   ],
   "source": [
    "torch.manual_seed(args.seed)\n",
    "np.random.seed(args.seed)\n",
    "\n",
    "# create a dataset of shadow network data\n",
    "dataset_clean = []\n",
    "for idx in range(args.n_clients):\n",
    "    path = os.path.join(args.dir_shadow,\n",
    "                        f'{args.dataname}_client_{idx}_results.pt')\n",
    "    latent_space = torch.load(path)['latent_space']\n",
    "\n",
    "    for idx, latent in enumerate(latent_space):\n",
    "        latent_space[idx] = latent.cpu().detach().numpy()\n",
    "\n",
    "    dataset_clean.append(latent_space)\n",
    "\n",
    "reshaped = np.array(dataset_clean).reshape((np.array(dataset_clean).shape[0] *\n",
    "                                            np.array(\n",
    "                                                dataset_clean).shape[1],\n",
    "                                            np.array(dataset_clean).shape[2]))\n",
    "\n",
    "# Generate dummy labels\n",
    "label_vector = []\n",
    "for i in range(0, np.array(dataset_clean).shape[0]):\n",
    "    for j in range(0, np.array(dataset_clean).shape[1]):\n",
    "        label_vector.append(i)\n",
    "\n",
    "dataset = np.concatenate(\n",
    "    [np.array(label_vector).reshape(-1, 1), reshaped], axis=1)"
   ]
  },
  {
   "cell_type": "code",
   "execution_count": 12,
   "metadata": {},
   "outputs": [
    {
     "name": "stdout",
     "output_type": "stream",
     "text": [
      "odict_keys(['features.0.weight', 'features.0.bias', 'features.1.weight', 'features.1.bias', 'features.1.running_mean', 'features.1.running_var', 'features.1.num_batches_tracked', 'features.4.weight', 'features.4.bias', 'features.5.weight', 'features.5.bias', 'features.5.running_mean', 'features.5.running_var', 'features.5.num_batches_tracked', 'features.8.weight', 'features.8.bias', 'features.9.weight', 'features.9.bias', 'features.9.running_mean', 'features.9.running_var', 'features.9.num_batches_tracked', 'features.11.weight', 'features.11.bias', 'features.12.weight', 'features.12.bias', 'features.12.running_mean', 'features.12.running_var', 'features.12.num_batches_tracked', 'features.15.weight', 'features.15.bias', 'features.16.weight', 'features.16.bias', 'features.16.running_mean', 'features.16.running_var', 'features.16.num_batches_tracked', 'features.18.weight', 'features.18.bias', 'features.19.weight', 'features.19.bias', 'features.19.running_mean', 'features.19.running_var', 'features.19.num_batches_tracked', 'features.22.weight', 'features.22.bias', 'features.23.weight', 'features.23.bias', 'features.23.running_mean', 'features.23.running_var', 'features.23.num_batches_tracked', 'features.25.weight', 'features.25.bias', 'features.26.weight', 'features.26.bias', 'features.26.running_mean', 'features.26.running_var', 'features.26.num_batches_tracked', 'classifier.0.weight', 'classifier.0.bias', 'classifier.3.weight', 'classifier.3.bias', 'classifier.6.weight', 'classifier.6.bias'])\n"
     ]
    }
   ],
   "source": [
    "print(model.keys())"
   ]
  },
  {
   "cell_type": "code",
   "execution_count": 22,
   "metadata": {},
   "outputs": [
    {
     "name": "stdout",
     "output_type": "stream",
     "text": [
      "classifier.6.bias\n"
     ]
    }
   ],
   "source": [
    "print(list(model.keys())[-1])"
   ]
  },
  {
   "cell_type": "code",
   "execution_count": null,
   "metadata": {},
   "outputs": [],
   "source": []
  }
 ],
 "metadata": {
  "kernelspec": {
   "display_name": "Python 3",
   "language": "python",
   "name": "python3"
  },
  "language_info": {
   "codemirror_mode": {
    "name": "ipython",
    "version": 3
   },
   "file_extension": ".py",
   "mimetype": "text/x-python",
   "name": "python",
   "nbconvert_exporter": "python",
   "pygments_lexer": "ipython3",
   "version": "3.11.10"
  }
 },
 "nbformat": 4,
 "nbformat_minor": 2
}
